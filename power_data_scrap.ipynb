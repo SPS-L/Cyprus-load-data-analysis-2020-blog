{
 "cells": [
  {
   "cell_type": "markdown",
   "metadata": {},
   "source": [
    "## Script to scrape load data from the website of the TSOC\n",
    "\n",
    "This script uses selenium and geckodriver to download automatically the electricity consumption data available at the website of the TSOC. Normally, the data are available in 15-day tranches, so this script makes the process of getting multi-month or multi-year data easier.\n",
    "\n",
    "The way it works is that we generate a list of start dates with 15 days difference of each other, covering the range of dates we want to download. Then, we formulate the URL and use Firefox in headless mode, to access the website and get the data.\n",
    "\n",
    "Of course, if the TSOC changes their website, things will fail."
   ]
  },
  {
   "cell_type": "code",
   "execution_count": null,
   "metadata": {},
   "outputs": [],
   "source": [
    "from selenium import webdriver\n",
    "from selenium.webdriver.common.by import By\n",
    "from selenium.webdriver.support.ui import WebDriverWait\n",
    "from selenium.webdriver.support import expected_conditions as EC\n",
    "from datetime import date, timedelta\n",
    "import time\n",
    "import os"
   ]
  },
  {
   "cell_type": "code",
   "execution_count": null,
   "metadata": {},
   "outputs": [],
   "source": [
    "# Get list of data I already have. This way we don't need to re-download everything again\n",
    "# and reduces stress on the website. Be kind.\n",
    "mypath = './power_data/'\n",
    "datafiles = [f for f in os.listdir(mypath) if os.path.isfile(os.path.join(mypath, f))]\n",
    "\n",
    "# Usually, the last file downloaded included days with NaN values. If for example we ask for 15-days\n",
    "# but there are 10 days available, it will fill in the rest with NaN. So, we remove the last\n",
    "# file to get an updated one.\n",
    "lastfile = datafiles.pop()\n",
    "os.remove(mypath+lastfile)\n",
    "\n",
    "# Extract the start dates from the file names\n",
    "datafilesclean = []\n",
    "for f in datafiles:\n",
    "    datafilesclean.append(f[18:28])"
   ]
  },
  {
   "cell_type": "code",
   "execution_count": null,
   "metadata": {},
   "outputs": [],
   "source": [
    "# Generate the dates I'll be requesting. It's from the start date to today with jumps of 15 days\n",
    "start_date = date(2019, 1, 1)\n",
    "end_date = date.today()\n",
    "delta = timedelta(days=15)\n",
    "datelist = []\n",
    "while start_date <= end_date:\n",
    "    if start_date.strftime(\"%Y-%m-%d\") not in datafilesclean:\n",
    "        datelist.append(start_date.strftime(\"%d-%m-%Y\"))\n",
    "    start_date += delta\n",
    "print(datelist)"
   ]
  },
  {
   "cell_type": "code",
   "execution_count": null,
   "metadata": {},
   "outputs": [],
   "source": [
    "# This is the XPATH of the button to click to get the excel file\n",
    "# I got this by \"inspecting\" the website\n",
    "myxpath = \"/html/body/div[2]/div/div/div/div/article/div/div[11]/div[1]/button\"\n",
    "\n",
    "# This is the path to geckodriver.exe and the download directory \n",
    "# You need to have firefox installed as well for this to work\n",
    "geckopath = r'C:\\Users\\p3tri\\geckodriver.exe'\n",
    "download_dir = 'C:\\\\Users\\\\p3tri\\\\OneDrive - Cyprus University of Technology\\\\Research projects\\\\2020\\\\EAC timeseries\\\\data\\\\'\n",
    "\n",
    "# Tell to Firefox where to download the excel files automatically and where to put them\n",
    "profile = webdriver.FirefoxProfile()\n",
    "profile.set_preference(\"browser.download.folderList\", 2)\n",
    "profile.set_preference(\"browser.download.manager.showWhenStarting\", False)\n",
    "profile.set_preference(\"browser.download.dir\", download_dir )\n",
    "profile.set_preference(\"browser.helperApps.neverAsk.saveToDisk\", \"application/vnd.openxmlformats-officedocument.spreadsheetml.sheet\")\n",
    "\n",
    "options = webdriver.FirefoxOptions()\n",
    "options.add_argument('-headless')\n",
    "\n",
    "# Initialise the firefox browser\n",
    "driver = webdriver.Firefox(executable_path=geckopath,firefox_profile=profile, options=options)"
   ]
  },
  {
   "cell_type": "code",
   "execution_count": null,
   "metadata": {},
   "outputs": [],
   "source": [
    "# Loop over the dates and download\n",
    "for dt in datelist:\n",
    "    # Generate the link to fetch the data\n",
    "    url=\"https://tsoc.org.cy/archive-total-daily-system-generation-on-the-transmission-system/?startdt=\"+dt+\"&enddt=%2B15days\"\n",
    "    # print(dt)\n",
    "    driver.get(url)\n",
    "    try:\n",
    "        btn = WebDriverWait(driver, 20).until(EC.element_to_be_clickable((By.XPATH, myxpath)))\n",
    "    except TimeoutException:\n",
    "        print(\"Loading took too much time: \"+dt)\n",
    "    time.sleep(5)\n",
    "    btn.click()\n",
    "    time.sleep(30)"
   ]
  },
  {
   "cell_type": "code",
   "execution_count": null,
   "metadata": {},
   "outputs": [],
   "source": [
    "# Close everything\n",
    "driver.close()\n",
    "driver.quit()"
   ]
  }
 ],
 "metadata": {
  "kernelspec": {
   "display_name": "Python 3",
   "language": "python",
   "name": "python3"
  },
  "language_info": {
   "codemirror_mode": {
    "name": "ipython",
    "version": 3
   },
   "file_extension": ".py",
   "mimetype": "text/x-python",
   "name": "python",
   "nbconvert_exporter": "python",
   "pygments_lexer": "ipython3",
   "version": "3.7.7"
  }
 },
 "nbformat": 4,
 "nbformat_minor": 4
}
