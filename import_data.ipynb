{
 "cells": [
  {
   "cell_type": "markdown",
   "metadata": {},
   "source": [
    "## Script to load electricity data into pandas DF\n",
    "\n",
    "This script loads data into dataframes to be used by other notebooks."
   ]
  },
  {
   "cell_type": "code",
   "execution_count": 1,
   "metadata": {},
   "outputs": [],
   "source": [
    "from datetime import timedelta, date\n",
    "import pandas as pd\n",
    "from os import listdir\n",
    "from os.path import isfile, join\n",
    "\n",
    "# Put this to True to print intermediate results and debuging information\n",
    "dbg = False\n",
    "# Put this to True to call the data scraping script to refresh the load data\n",
    "update_data = False\n",
    "# This is the path where the data are located\n",
    "power_data = './power_data/'\n",
    "temp_data = './temp_data/'"
   ]
  },
  {
   "cell_type": "code",
   "execution_count": 2,
   "metadata": {},
   "outputs": [],
   "source": [
    "# Load load profile files from the path. \n",
    "# There are multiple excel files downloaded from the TSOC website for the relevant periods.\n",
    "if update_data:\n",
    "    %run ./power_data_scrap.ipynb\n",
    "\n",
    "datafiles = [f for f in listdir(power_data) if isfile(join(power_data, f))]"
   ]
  },
  {
   "cell_type": "code",
   "execution_count": 3,
   "metadata": {},
   "outputs": [],
   "source": [
    "# We only need certain columns and read the files and concatenate to a single DF\n",
    "# If there is an overlap it might create issues.\n",
    "cols = 'A,B,C,D,F'\n",
    "mynames = [\"DATE\", \"CAP\", \"WIND\", \"PV\", \"CONV\"]\n",
    "dftmp = pd.read_excel(power_data+datafiles[0], usecols = cols, skiprows = 2,  index_col = 0, header = None, names = mynames, verbose=dbg, parse_dates=True)\n",
    "for f in datafiles[1:]:\n",
    "    dftmp = pd.concat([dftmp, pd.read_excel(power_data+f, usecols = cols, skiprows = 2,  index_col = 0, header = None, names = mynames, verbose=dbg, parse_dates=True)])\n",
    "if dbg:\n",
    "    print(dftmp)"
   ]
  },
  {
   "cell_type": "code",
   "execution_count": 4,
   "metadata": {},
   "outputs": [],
   "source": [
    "# Since we might have multi-year data, extract just the two years we like to compare.\n",
    "df19 = dftmp[dftmp.index.year == 2019].copy()\n",
    "# In the 2020 one, there are nan values for the days after today, so we filter them out.\n",
    "df20 = dftmp[(dftmp.index.year == 2020) & (dftmp.index.date < date.today())].copy()\n",
    "if dbg:\n",
    "    print(df19,df20)"
   ]
  },
  {
   "cell_type": "code",
   "execution_count": 5,
   "metadata": {},
   "outputs": [],
   "source": [
    "# Create the columns with the total load and penetration\n",
    "# Load=Conventional + PV + WIND\n",
    "df19[\"LOAD19\"] = df19[\"CONV\"] + df19[\"WIND\"] + df19[\"PV\"]\n",
    "df19[\"PEN19\"] = 100.0*(df19[\"WIND\"] + df19[\"PV\"]) / df19[\"LOAD19\"]\n",
    "df20[\"LOAD20\"] = df20[\"CONV\"] + df20[\"WIND\"] + df20[\"PV\"]\n",
    "df20[\"PEN20\"] = 100.0*(df20[\"WIND\"] + df20[\"PV\"]) / df20[\"LOAD20\"]\n",
    "if dbg:\n",
    "    print(df19, df20)"
   ]
  },
  {
   "cell_type": "code",
   "execution_count": 6,
   "metadata": {},
   "outputs": [],
   "source": [
    "# Read the weekly heating degree days. Downloaded from https://www.degreedays.net/\n",
    "# Careful that these are given with the week comensing the date in column A (Monday)\n",
    "csv_file = temp_data + 'LCRA_HDD_15.5C.csv'\n",
    "cols = [0, 1]\n",
    "dfHDD = pd.read_csv(csv_file, usecols = cols,  index_col = 0, skiprows = 6, header = 0, parse_dates=True)  \n",
    "dfHDD[\"Datetime\"] = pd.to_datetime(dfHDD.index, dayfirst=True, errors='coerce')\n",
    "dfHDD.set_index('Datetime', inplace=True)\n",
    "dfHDD19 = dfHDD[dfHDD.index.year == 2019].copy()\n",
    "dfHDD20 = dfHDD[dfHDD.index.year == 2020].copy()\n",
    "if dbg:\n",
    "    print(dfHDD19,dfHDD20)"
   ]
  }
 ],
 "metadata": {
  "kernelspec": {
   "display_name": "Python 3",
   "language": "python",
   "name": "python3"
  },
  "language_info": {
   "codemirror_mode": {
    "name": "ipython",
    "version": 3
   },
   "file_extension": ".py",
   "mimetype": "text/x-python",
   "name": "python",
   "nbconvert_exporter": "python",
   "pygments_lexer": "ipython3",
   "version": "3.7.7"
  }
 },
 "nbformat": 4,
 "nbformat_minor": 2
}
